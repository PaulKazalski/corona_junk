{
 "cells": [
  {
   "cell_type": "code",
   "execution_count": 1,
   "metadata": {},
   "outputs": [],
   "source": [
    "def scrape_worldmeters():\n",
    "    import pandas as pd\n",
    "    import os\n",
    "    url = 'https://www.worldometers.info/coronavirus/'\n",
    "    tables = pd.read_html(url)\n",
    "    worldmeters_today = tables[0]\n",
    "    worldmeters_yesterday = tables[1]\n",
    "    path = '.\\Resources'\n",
    "    worldmeters_today.to_csv(os.path.join(path, \"worldmeters_today.csv\"))\n",
    "    worldmeters_yesterday.to_csv(os.path.join(path, \"worldmeters_yesterday.csv\"))"
   ]
  },
  {
   "cell_type": "code",
   "execution_count": 2,
   "metadata": {},
   "outputs": [],
   "source": [
    "scrape_worldmeters()"
   ]
  },
  {
   "cell_type": "code",
   "execution_count": null,
   "metadata": {},
   "outputs": [],
   "source": []
  }
 ],
 "metadata": {
  "kernelspec": {
   "display_name": "Python 3",
   "language": "python",
   "name": "python3"
  },
  "language_info": {
   "codemirror_mode": {
    "name": "ipython",
    "version": 3
   },
   "file_extension": ".py",
   "mimetype": "text/x-python",
   "name": "python",
   "nbconvert_exporter": "python",
   "pygments_lexer": "ipython3",
   "version": "3.7.6"
  }
 },
 "nbformat": 4,
 "nbformat_minor": 4
}
